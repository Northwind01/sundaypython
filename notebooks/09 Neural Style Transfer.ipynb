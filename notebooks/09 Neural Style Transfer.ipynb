{
 "cells": [
  {
   "cell_type": "markdown",
   "metadata": {},
   "source": [
    "### Neural Style Transfer\n",
    "\n",
    "* many styles of style transfer\n",
    "* https://github.com/titu1994/Neural-Style-Transfer\n",
    "\n",
    "Content:\n",
    "\n",
    "![](https://codingdavinci.de/img/daten/007_StadtarchivLeipzig.jpg)\n",
    "\n",
    "Style:\n",
    "\n",
    "![](../data/skd-1.png)\n",
    "\n",
    "----\n",
    "\n",
    "```\n",
    "$ python Network.py /Users/tir/code/miku/sundaypython/data/007_StadtarchivLeipzig.jpg /Users/tir/code/miku/sundaypython/data/skd-1.png xxx.png\n",
    "```"
   ]
  },
  {
   "cell_type": "markdown",
   "metadata": {},
   "source": [
    "## Iteration 1\n",
    "\n",
    "![](../data/xxx.png_at_iteration_1.png)"
   ]
  },
  {
   "cell_type": "code",
   "execution_count": 5,
   "metadata": {},
   "outputs": [],
   "source": [
    "# ... I need a GPU ..."
   ]
  },
  {
   "cell_type": "markdown",
   "metadata": {},
   "source": [
    "## Iteration 2\n",
    "\n",
    "![](../data/xxx.png_at_iteration_2.png)"
   ]
  },
  {
   "cell_type": "code",
   "execution_count": null,
   "metadata": {},
   "outputs": [],
   "source": []
  }
 ],
 "metadata": {
  "kernelspec": {
   "display_name": "Python 3",
   "language": "python",
   "name": "python3"
  },
  "language_info": {
   "codemirror_mode": {
    "name": "ipython",
    "version": 3
   },
   "file_extension": ".py",
   "mimetype": "text/x-python",
   "name": "python",
   "nbconvert_exporter": "python",
   "pygments_lexer": "ipython3",
   "version": "3.6.4"
  }
 },
 "nbformat": 4,
 "nbformat_minor": 2
}
