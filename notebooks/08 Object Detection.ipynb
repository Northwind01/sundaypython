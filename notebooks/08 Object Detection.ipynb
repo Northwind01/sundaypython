{
 "cells": [
  {
   "cell_type": "code",
   "execution_count": 1,
   "metadata": {},
   "outputs": [
    {
     "name": "stderr",
     "output_type": "stream",
     "text": [
      "/Users/tir/.pyenv/versions/3.6.4/lib/python3.6/site-packages/h5py/__init__.py:36: FutureWarning: Conversion of the second argument of issubdtype from `float` to `np.floating` is deprecated. In future, it will be treated as `np.float64 == np.dtype(float).type`.\n",
      "  from ._conv import register_converters as _register_converters\n",
      "Using TensorFlow backend.\n"
     ]
    }
   ],
   "source": [
    "import sys\n",
    "\n",
    "from keras.applications.vgg16 import VGG16, preprocess_input, decode_predictions\n",
    "from keras.preprocessing import image\n",
    "import numpy as np\n",
    "import time\n",
    "import requests\n",
    "import shutil\n",
    "\n",
    "model = VGG16(weights='imagenet')"
   ]
  },
  {
   "cell_type": "code",
   "execution_count": 2,
   "metadata": {},
   "outputs": [],
   "source": [
    "# model.summary()\n",
    "# _________________________________________________________________\n",
    "# Layer (type)                 Output Shape              Param #\n",
    "# =================================================================\n",
    "# input_1 (InputLayer)         (None, 224, 224, 3)       0\n",
    "# _________________________________________________________________\n",
    "# block1_conv1 (Conv2D)        (None, 224, 224, 64)      1792\n",
    "# _________________________________________________________________\n",
    "# block1_conv2 (Conv2D)        (None, 224, 224, 64)      36928\n",
    "# _________________________________________________________________\n",
    "# block1_pool (MaxPooling2D)   (None, 112, 112, 64)      0\n",
    "# _________________________________________________________________\n",
    "# block2_conv1 (Conv2D)        (None, 112, 112, 128)     73856\n",
    "# _________________________________________________________________\n",
    "# block2_conv2 (Conv2D)        (None, 112, 112, 128)     147584\n",
    "# _________________________________________________________________\n",
    "# block2_pool (MaxPooling2D)   (None, 56, 56, 128)       0\n",
    "# _________________________________________________________________\n",
    "# block3_conv1 (Conv2D)        (None, 56, 56, 256)       295168\n",
    "# _________________________________________________________________\n",
    "# block3_conv2 (Conv2D)        (None, 56, 56, 256)       590080\n",
    "# _________________________________________________________________\n",
    "# block3_conv3 (Conv2D)        (None, 56, 56, 256)       590080\n",
    "# _________________________________________________________________\n",
    "# block3_pool (MaxPooling2D)   (None, 28, 28, 256)       0\n",
    "# _________________________________________________________________\n",
    "# block4_conv1 (Conv2D)        (None, 28, 28, 512)       1180160\n",
    "# _________________________________________________________________\n",
    "# block4_conv2 (Conv2D)        (None, 28, 28, 512)       2359808\n",
    "# _________________________________________________________________\n",
    "# block4_conv3 (Conv2D)        (None, 28, 28, 512)       2359808\n",
    "# _________________________________________________________________\n",
    "# block4_pool (MaxPooling2D)   (None, 14, 14, 512)       0\n",
    "# _________________________________________________________________\n",
    "# block5_conv1 (Conv2D)        (None, 14, 14, 512)       2359808\n",
    "# _________________________________________________________________\n",
    "# block5_conv2 (Conv2D)        (None, 14, 14, 512)       2359808\n",
    "# _________________________________________________________________\n",
    "# block5_conv3 (Conv2D)        (None, 14, 14, 512)       2359808\n",
    "# _________________________________________________________________\n",
    "# block5_pool (MaxPooling2D)   (None, 7, 7, 512)         0\n",
    "# _________________________________________________________________\n",
    "# flatten (Flatten)            (None, 25088)             0\n",
    "# _________________________________________________________________\n",
    "# fc1 (Dense)                          102764544\n",
    "# _________________________________________________________________\n",
    "# fc2 (Dense)                  (None, 4096)              16781312      (None, 4096)\n",
    "# _________________________________________________________________\n",
    "# predictions (Dense)          (None, 1000)              4097000\n",
    "# =================================================================\n",
    "# Total params: 138,357,544\n",
    "# Trainable params: 138,357,544\n",
    "# Non-trainable params: 0"
   ]
  },
  {
   "cell_type": "code",
   "execution_count": 3,
   "metadata": {},
   "outputs": [],
   "source": [
    "def predictions(filename_or_url=\"../data/elephant.jpg\", ext=\"jpg\"):\n",
    "    started = time.time()\n",
    "    if filename_or_url.startswith(\"http\"):\n",
    "        response = requests.get(filename_or_url, stream=True)\n",
    "        with open('img.%s' % (ext), 'wb') as out_file:\n",
    "            shutil.copyfileobj(response.raw, out_file)\n",
    "        del response\n",
    "        img_path = out_file.name\n",
    "        print(\"downloaded %s to %s\" % (filename_or_url, img_path))\n",
    "    else:\n",
    "        img_path = filename_or_url\n",
    "    \n",
    "    print(\"%0.4f loading and resizing image\" %\n",
    "          (time.time() - started), file=sys.stderr)\n",
    "    img = image.load_img(img_path, target_size=(224, 224))\n",
    "\n",
    "    print(\"%0.4f preprocessing input...\" %\n",
    "          (time.time() - started), file=sys.stderr)\n",
    "\n",
    "    x = image.img_to_array(img)\n",
    "    x = np.expand_dims(x, axis=0)\n",
    "    x = preprocess_input(x)\n",
    "\n",
    "    # Image has been converted into (1, 224, 224, 3)\n",
    "\n",
    "    print(\"%0.4f predict...\" % (time.time() - started), file=sys.stderr)\n",
    "    return model.predict(x)"
   ]
  },
  {
   "cell_type": "code",
   "execution_count": 4,
   "metadata": {},
   "outputs": [],
   "source": [
    "def histo(p):\n",
    "    return \"|\" * int(75*p)"
   ]
  },
  {
   "cell_type": "code",
   "execution_count": 5,
   "metadata": {},
   "outputs": [],
   "source": [
    "def object_detection(filename_or_url):\n",
    "    preds = predictions(filename_or_url)\n",
    "    \n",
    "    for (_, name, p) in decode_predictions(preds, top=5)[0]:\n",
    "        print(\"% 25s %0.4f %s\" % (name, p, histo(p)))\n"
   ]
  },
  {
   "cell_type": "markdown",
   "metadata": {},
   "source": [
    "### Lindenau-Museum\n",
    "* https://speicherwolke.uni-leipzig.de/index.php/s/IvHiDl76pCQ1ulq#//K_214%20Lindenau-Museum%20Altenburg.jpg\n",
    "\n",
    "![](\"../data/K_214.png\")"
   ]
  },
  {
   "cell_type": "code",
   "execution_count": 6,
   "metadata": {},
   "outputs": [
    {
     "name": "stderr",
     "output_type": "stream",
     "text": [
      "0.0000 loading and resizing image\n",
      "0.1392 preprocessing input...\n",
      "0.1403 predict...\n"
     ]
    },
    {
     "name": "stdout",
     "output_type": "stream",
     "text": [
      "                     mask 0.2797 ||||||||||||||||||||\n",
      "                   maraca 0.2474 ||||||||||||||||||\n",
      "                     vase 0.2135 ||||||||||||||||\n",
      "                  pitcher 0.0565 ||||\n",
      "                   goblet 0.0539 ||||\n"
     ]
    }
   ],
   "source": [
    "object_detection(\"../data/K_214.png\")"
   ]
  },
  {
   "cell_type": "code",
   "execution_count": null,
   "metadata": {},
   "outputs": [],
   "source": []
  }
 ],
 "metadata": {
  "kernelspec": {
   "display_name": "Python 3",
   "language": "python",
   "name": "python3"
  },
  "language_info": {
   "codemirror_mode": {
    "name": "ipython",
    "version": 3
   },
   "file_extension": ".py",
   "mimetype": "text/x-python",
   "name": "python",
   "nbconvert_exporter": "python",
   "pygments_lexer": "ipython3",
   "version": "3.6.4"
  }
 },
 "nbformat": 4,
 "nbformat_minor": 2
}
