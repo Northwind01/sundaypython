{
 "cells": [
  {
   "cell_type": "markdown",
   "metadata": {},
   "source": [
    "### Web apps with Python\n",
    "\n",
    "* As easy as webapp.py ([flask](http://flask.pocoo.org/))\n",
    "* [Django](https://www.djangoproject.com/) web framework\n",
    "\n",
    "Many more, also lots of microframeworks.\n",
    "\n",
    "* https://bottlepy.org/docs/dev/\n",
    "* http://www.tornadoweb.org/en/stable/\n",
    "* ..."
   ]
  },
  {
   "cell_type": "code",
   "execution_count": null,
   "metadata": {},
   "outputs": [],
   "source": []
  }
 ],
 "metadata": {
  "kernelspec": {
   "display_name": "Python 3",
   "language": "python",
   "name": "python3"
  },
  "language_info": {
   "codemirror_mode": {
    "name": "ipython",
    "version": 3
   },
   "file_extension": ".py",
   "mimetype": "text/x-python",
   "name": "python",
   "nbconvert_exporter": "python",
   "pygments_lexer": "ipython3",
   "version": "3.6.4"
  }
 },
 "nbformat": 4,
 "nbformat_minor": 2
}
