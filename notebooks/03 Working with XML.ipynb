{
 "cells": [
  {
   "cell_type": "markdown",
   "metadata": {},
   "source": [
    "## XML, Historische Kartensammlung\n",
    "\n",
    "* \"Historische Kartensammlung\", https://speicherwolke.uni-leipzig.de/index.php/s/p3OptbKiHHoPEhU"
   ]
  },
  {
   "cell_type": "code",
   "execution_count": 1,
   "metadata": {},
   "outputs": [
    {
     "name": "stdout",
     "output_type": "stream",
     "text": [
      "-rw-r--r-- 1 tir staff 4.0M Apr 15 01:18 ../data/iflzkw.xml\r\n"
     ]
    }
   ],
   "source": [
    "!ls -lah ../data/iflzkw.xml"
   ]
  },
  {
   "cell_type": "code",
   "execution_count": 2,
   "metadata": {},
   "outputs": [
    {
     "name": "stdout",
     "output_type": "stream",
     "text": [
      "../data/iflzkw.xml: XML 1.0 document text, UTF-8 Unicode text, with very long lines\r\n"
     ]
    }
   ],
   "source": [
    "!file ../data/iflzkw.xml"
   ]
  },
  {
   "cell_type": "markdown",
   "metadata": {},
   "source": [
    "There are various libraries for XML:\n",
    "\n",
    "* etree\n",
    "* lxml\n",
    "* BeautifulSoup\n",
    "* untangle\n",
    "* xmltodict"
   ]
  },
  {
   "cell_type": "code",
   "execution_count": 3,
   "metadata": {},
   "outputs": [],
   "source": [
    "with open(\"../data/iflzkw.xml\") as handle:\n",
    "    content = handle.read()"
   ]
  },
  {
   "cell_type": "code",
   "execution_count": 4,
   "metadata": {},
   "outputs": [
    {
     "name": "stdout",
     "output_type": "stream",
     "text": [
      "<?xml version=\"1.0\" encoding=\"UTF-8\"?>\n",
      "<collection xmlns=\"http://www.loc.gov/MARC21/slim\">\n",
      "  <record>\n",
      "    <leader>01250nem  22002893  4500</leader>\n",
      "    <controlfield tag=\"001\">237685000</controlfield>\n",
      "    <controlfield tag=\"003\">DE-185</controlfield>\n",
      "    <controlfield tag=\"007\">ta</controlfield>\n",
      "    <controlfield tag=\"008\">1870                             i|por</controlfield>\n",
      "    <datafield tag=\"0\n"
     ]
    }
   ],
   "source": [
    "print(content[:400])"
   ]
  },
  {
   "cell_type": "code",
   "execution_count": 5,
   "metadata": {},
   "outputs": [],
   "source": [
    "import xmltodict"
   ]
  },
  {
   "cell_type": "code",
   "execution_count": 6,
   "metadata": {},
   "outputs": [],
   "source": [
    "with open(\"../data/iflzkw.xml\") as fd:\n",
    "    doc = xmltodict.parse(fd.read())"
   ]
  },
  {
   "cell_type": "code",
   "execution_count": 7,
   "metadata": {},
   "outputs": [
    {
     "data": {
      "text/plain": [
       "[OrderedDict([('@tag', '001'), ('#text', '237685000')]),\n",
       " OrderedDict([('@tag', '003'), ('#text', 'DE-185')]),\n",
       " OrderedDict([('@tag', '007'), ('#text', 'ta')]),\n",
       " OrderedDict([('@tag', '008'),\n",
       "              ('#text', '1870                             i|por')])]"
      ]
     },
     "execution_count": 7,
     "metadata": {},
     "output_type": "execute_result"
    }
   ],
   "source": [
    "doc[\"collection\"][\"record\"][0][\"controlfield\"]"
   ]
  },
  {
   "cell_type": "code",
   "execution_count": 8,
   "metadata": {},
   "outputs": [
    {
     "data": {
      "text/plain": [
       "'237685000'"
      ]
     },
     "execution_count": 8,
     "metadata": {},
     "output_type": "execute_result"
    }
   ],
   "source": [
    "doc[\"collection\"][\"record\"][0][\"controlfield\"][0][\"#text\"]"
   ]
  },
  {
   "cell_type": "markdown",
   "metadata": {},
   "source": [
    "In this case (MARCXML), there is even another way to access the data. Convert it to a binary representation with a command line tool and the use the pymarc Python library.\n",
    "\n",
    "```\n",
    "$ yaz-marcdump -i marcxml -o marc iflzkw.xml > iflzkw.mrc\n",
    "```"
   ]
  },
  {
   "cell_type": "code",
   "execution_count": 9,
   "metadata": {},
   "outputs": [],
   "source": [
    "import pymarc"
   ]
  },
  {
   "cell_type": "code",
   "execution_count": 10,
   "metadata": {},
   "outputs": [],
   "source": [
    "fd = open(\"../data/iflzkw.mrc\", 'rb')\n",
    "reader = pymarc.MARCReader(fd, to_unicode=True)\n",
    "record = next(reader)"
   ]
  },
  {
   "cell_type": "code",
   "execution_count": 11,
   "metadata": {},
   "outputs": [
    {
     "data": {
      "text/plain": [
       "'237685000'"
      ]
     },
     "execution_count": 11,
     "metadata": {},
     "output_type": "execute_result"
    }
   ],
   "source": [
    "record['001'].value()"
   ]
  },
  {
   "cell_type": "code",
   "execution_count": 12,
   "metadata": {},
   "outputs": [
    {
     "data": {
      "text/plain": [
       "'Carta De Parte Das Provincias Do Rio De Janeiro, Minas Geraes E S. Paulo'"
      ]
     },
     "execution_count": 12,
     "metadata": {},
     "output_type": "execute_result"
    }
   ],
   "source": [
    "record['245']['a']"
   ]
  },
  {
   "cell_type": "code",
   "execution_count": 13,
   "metadata": {},
   "outputs": [],
   "source": [
    "fd.close()"
   ]
  },
  {
   "cell_type": "code",
   "execution_count": null,
   "metadata": {},
   "outputs": [],
   "source": []
  }
 ],
 "metadata": {
  "kernelspec": {
   "display_name": "Python 3",
   "language": "python",
   "name": "python3"
  },
  "language_info": {
   "codemirror_mode": {
    "name": "ipython",
    "version": 3
   },
   "file_extension": ".py",
   "mimetype": "text/x-python",
   "name": "python",
   "nbconvert_exporter": "python",
   "pygments_lexer": "ipython3",
   "version": "3.6.4"
  }
 },
 "nbformat": 4,
 "nbformat_minor": 2
}
