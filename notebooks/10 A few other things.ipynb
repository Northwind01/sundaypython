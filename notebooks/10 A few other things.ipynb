{
 "cells": [
  {
   "cell_type": "markdown",
   "metadata": {},
   "source": [
    "### Twarc\n",
    "\n",
    "* Twitter harvester\n",
    "* https://github.com/DocNow/twarc"
   ]
  },
  {
   "cell_type": "markdown",
   "metadata": {},
   "source": [
    "### RDFLib\n",
    "\n",
    "* read and write RDF"
   ]
  },
  {
   "cell_type": "code",
   "execution_count": null,
   "metadata": {},
   "outputs": [],
   "source": []
  },
  {
   "cell_type": "markdown",
   "metadata": {},
   "source": [
    "\n",
    "### Wikidata"
   ]
  },
  {
   "cell_type": "code",
   "execution_count": 1,
   "metadata": {},
   "outputs": [],
   "source": [
    "from wikidata.client import Client"
   ]
  },
  {
   "cell_type": "code",
   "execution_count": 5,
   "metadata": {},
   "outputs": [],
   "source": [
    "client = Client()"
   ]
  },
  {
   "cell_type": "code",
   "execution_count": 10,
   "metadata": {},
   "outputs": [],
   "source": [
    "entity = client.get('Q51845313', load=True)"
   ]
  },
  {
   "cell_type": "code",
   "execution_count": 11,
   "metadata": {},
   "outputs": [
    {
     "data": {
      "text/plain": [
       "<wikidata.entity.Entity Q51845313 'Coding da Vinci Ost 2018'>"
      ]
     },
     "execution_count": 11,
     "metadata": {},
     "output_type": "execute_result"
    }
   ],
   "source": [
    "entity"
   ]
  },
  {
   "cell_type": "code",
   "execution_count": 12,
   "metadata": {},
   "outputs": [
    {
     "data": {
      "text/plain": [
       "m'Regionale Ausgabe des Kultuhackathons \"Coding da Vinci\" in Leipzig im Frühjahr 2018'"
      ]
     },
     "execution_count": 12,
     "metadata": {},
     "output_type": "execute_result"
    }
   ],
   "source": [
    " entity.description"
   ]
  },
  {
   "cell_type": "code",
   "execution_count": 16,
   "metadata": {},
   "outputs": [
    {
     "data": {
      "text/plain": [
       "{'aliases': [],\n",
       " 'claims': {'P17': [{'id': 'Q51845313$5ec1e9c6-4621-61f6-e1cf-4827aad63657',\n",
       "    'mainsnak': {'datatype': 'wikibase-item',\n",
       "     'datavalue': {'type': 'wikibase-entityid',\n",
       "      'value': {'entity-type': 'item', 'id': 'Q183', 'numeric-id': 183}},\n",
       "     'property': 'P17',\n",
       "     'snaktype': 'value'},\n",
       "    'rank': 'normal',\n",
       "    'type': 'statement'}],\n",
       "  'P179': [{'id': 'Q51845313$a54e24f5-4222-503d-23b2-c121b68f1220',\n",
       "    'mainsnak': {'datatype': 'wikibase-item',\n",
       "     'datavalue': {'type': 'wikibase-entityid',\n",
       "      'value': {'entity-type': 'item',\n",
       "       'id': 'Q51845238',\n",
       "       'numeric-id': 51845238}},\n",
       "     'property': 'P179',\n",
       "     'snaktype': 'value'},\n",
       "    'qualifiers': {'P1545': [{'datatype': 'string',\n",
       "       'datavalue': {'type': 'string', 'value': '5'},\n",
       "       'hash': 'ea4583c18f699186700d21642b477a2dc1d345c8',\n",
       "       'property': 'P1545',\n",
       "       'snaktype': 'value'}]},\n",
       "    'qualifiers-order': ['P1545'],\n",
       "    'rank': 'normal',\n",
       "    'type': 'statement'}],\n",
       "  'P2572': [{'id': 'Q51845313$7e921155-4e19-4b53-8cab-7ba0217c163d',\n",
       "    'mainsnak': {'datatype': 'string',\n",
       "     'datavalue': {'type': 'string', 'value': 'cdvost'},\n",
       "     'property': 'P2572',\n",
       "     'snaktype': 'value'},\n",
       "    'rank': 'normal',\n",
       "    'type': 'statement'}],\n",
       "  'P276': [{'id': 'Q51845313$8c930fac-417e-4738-d4c4-0082109f4d40',\n",
       "    'mainsnak': {'datatype': 'wikibase-item',\n",
       "     'datavalue': {'type': 'wikibase-entityid',\n",
       "      'value': {'entity-type': 'item', 'id': 'Q872896', 'numeric-id': 872896}},\n",
       "     'property': 'P276',\n",
       "     'snaktype': 'value'},\n",
       "    'rank': 'normal',\n",
       "    'references': [{'hash': 'f6687774a66cbe0eaf0dd0b5cced6aabbaa6fcaa',\n",
       "      'snaks': {'P813': [{'datatype': 'time',\n",
       "         'datavalue': {'type': 'time',\n",
       "          'value': {'after': 0,\n",
       "           'before': 0,\n",
       "           'calendarmodel': 'http://www.wikidata.org/entity/Q1985727',\n",
       "           'precision': 11,\n",
       "           'time': '+2018-04-14T00:00:00Z',\n",
       "           'timezone': 0}},\n",
       "         'property': 'P813',\n",
       "         'snaktype': 'value'}],\n",
       "       'P854': [{'datatype': 'url',\n",
       "         'datavalue': {'type': 'string',\n",
       "          'value': 'https://codingdavinci.de/events/ost/'},\n",
       "         'property': 'P854',\n",
       "         'snaktype': 'value'}]},\n",
       "      'snaks-order': ['P854', 'P813']}],\n",
       "    'type': 'statement'}],\n",
       "  'P31': [{'id': 'Q51845313$ee25554b-4055-1551-bdfd-cb1cd1f76aa8',\n",
       "    'mainsnak': {'datatype': 'wikibase-item',\n",
       "     'datavalue': {'type': 'wikibase-entityid',\n",
       "      'value': {'entity-type': 'item',\n",
       "       'id': 'Q51845238',\n",
       "       'numeric-id': 51845238}},\n",
       "     'property': 'P31',\n",
       "     'snaktype': 'value'},\n",
       "    'rank': 'normal',\n",
       "    'references': [{'hash': 'f6687774a66cbe0eaf0dd0b5cced6aabbaa6fcaa',\n",
       "      'snaks': {'P813': [{'datatype': 'time',\n",
       "         'datavalue': {'type': 'time',\n",
       "          'value': {'after': 0,\n",
       "           'before': 0,\n",
       "           'calendarmodel': 'http://www.wikidata.org/entity/Q1985727',\n",
       "           'precision': 11,\n",
       "           'time': '+2018-04-14T00:00:00Z',\n",
       "           'timezone': 0}},\n",
       "         'property': 'P813',\n",
       "         'snaktype': 'value'}],\n",
       "       'P854': [{'datatype': 'url',\n",
       "         'datavalue': {'type': 'string',\n",
       "          'value': 'https://codingdavinci.de/events/ost/'},\n",
       "         'property': 'P854',\n",
       "         'snaktype': 'value'}]},\n",
       "      'snaks-order': ['P854', 'P813']}],\n",
       "    'type': 'statement'}],\n",
       "  'P580': [{'id': 'Q51845313$53a63389-4e7a-a648-9c59-dae19bf39c82',\n",
       "    'mainsnak': {'datatype': 'time',\n",
       "     'datavalue': {'type': 'time',\n",
       "      'value': {'after': 0,\n",
       "       'before': 0,\n",
       "       'calendarmodel': 'http://www.wikidata.org/entity/Q1985727',\n",
       "       'precision': 11,\n",
       "       'time': '+2018-04-14T00:00:00Z',\n",
       "       'timezone': 0}},\n",
       "     'property': 'P580',\n",
       "     'snaktype': 'value'},\n",
       "    'rank': 'normal',\n",
       "    'type': 'statement'}],\n",
       "  'P582': [{'id': 'Q51845313$eda2252d-4380-64c7-3ee4-d92886cff179',\n",
       "    'mainsnak': {'datatype': 'time',\n",
       "     'datavalue': {'type': 'time',\n",
       "      'value': {'after': 0,\n",
       "       'before': 0,\n",
       "       'calendarmodel': 'http://www.wikidata.org/entity/Q1985727',\n",
       "       'precision': 11,\n",
       "       'time': '+2018-06-16T00:00:00Z',\n",
       "       'timezone': 0}},\n",
       "     'property': 'P582',\n",
       "     'snaktype': 'value'},\n",
       "    'rank': 'normal',\n",
       "    'type': 'statement'}],\n",
       "  'P664': [{'id': 'Q51845313$7246290b-490b-0c2c-5a2f-9c1d66097f4f',\n",
       "    'mainsnak': {'datatype': 'wikibase-item',\n",
       "     'datavalue': {'type': 'wikibase-entityid',\n",
       "      'value': {'entity-type': 'item', 'id': 'Q872896', 'numeric-id': 872896}},\n",
       "     'property': 'P664',\n",
       "     'snaktype': 'value'},\n",
       "    'rank': 'normal',\n",
       "    'type': 'statement'}],\n",
       "  'P856': [{'id': 'Q51845313$b1cfac35-4d00-3239-8c30-cd262b8b0c65',\n",
       "    'mainsnak': {'datatype': 'url',\n",
       "     'datavalue': {'type': 'string',\n",
       "      'value': 'https://codingdavinci.de/events/ost/'},\n",
       "     'property': 'P856',\n",
       "     'snaktype': 'value'},\n",
       "    'rank': 'normal',\n",
       "    'type': 'statement'}]},\n",
       " 'descriptions': {'de': {'language': 'de',\n",
       "   'value': 'Regionale Ausgabe des Kultuhackathons \"Coding da Vinci\" in Leipzig im Frühjahr 2018'}},\n",
       " 'id': 'Q51845313',\n",
       " 'labels': {'de': {'language': 'de', 'value': 'Coding da Vinci Ost 2018'},\n",
       "  'en': {'language': 'en', 'value': 'Coding da Vinci Ost 2018'}},\n",
       " 'lastrevid': 665400057,\n",
       " 'modified': '2018-04-14T14:59:31Z',\n",
       " 'ns': 0,\n",
       " 'pageid': 52755988,\n",
       " 'sitelinks': [],\n",
       " 'title': 'Q51845313',\n",
       " 'type': 'item'}"
      ]
     },
     "execution_count": 16,
     "metadata": {},
     "output_type": "execute_result"
    }
   ],
   "source": [
    "entity.attributes"
   ]
  }
 ],
 "metadata": {
  "kernelspec": {
   "display_name": "Python 3",
   "language": "python",
   "name": "python3"
  },
  "language_info": {
   "codemirror_mode": {
    "name": "ipython",
    "version": 3
   },
   "file_extension": ".py",
   "mimetype": "text/x-python",
   "name": "python",
   "nbconvert_exporter": "python",
   "pygments_lexer": "ipython3",
   "version": "3.6.4"
  }
 },
 "nbformat": 4,
 "nbformat_minor": 2
}
